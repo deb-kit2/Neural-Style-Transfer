{
  "nbformat": 4,
  "nbformat_minor": 0,
  "metadata": {
    "colab": {
      "name": "style_transfer.ipynb",
      "version": "0.3.2",
      "provenance": [],
      "collapsed_sections": []
    },
    "kernelspec": {
      "name": "python3",
      "display_name": "Python 3"
    },
    "accelerator": "TPU"
  },
  "cells": [
    {
      "cell_type": "markdown",
      "metadata": {
        "id": "VuZ0iwhFylzG",
        "colab_type": "text"
      },
      "source": [
        "Hi!\n",
        "\n",
        "So we begin with importing some things we need.\n",
        "\n",
        "I'm importing the file vgg16.py, a well documented file as to import and use the vgg16.tfmodel"
      ]
    },
    {
      "cell_type": "markdown",
      "metadata": {
        "id": "pui_zDXhoaZ7",
        "colab_type": "text"
      },
      "source": [
        "Resources used :"
      ]
    },
    {
      "cell_type": "code",
      "metadata": {
        "id": "9MGNEwlyu3Wy",
        "colab_type": "code",
        "colab": {}
      },
      "source": [
        "from __future__ import print_function\n",
        "import numpy as np\n",
        "from PIL import Image\n",
        "import tensorflow as tf\n",
        "from matplotlib import pyplot as plt"
      ],
      "execution_count": 0,
      "outputs": []
    },
    {
      "cell_type": "code",
      "metadata": {
        "id": "DFZhI-Y6SwD_",
        "colab_type": "code",
        "colab": {}
      },
      "source": [
        "import os\n",
        "work_dir = \"/content/\"\n",
        "os.chdir(work_dir)"
      ],
      "execution_count": 0,
      "outputs": []
    },
    {
      "cell_type": "code",
      "metadata": {
        "id": "ezzsN7rgZiM2",
        "colab_type": "code",
        "colab": {}
      },
      "source": [
        "import vgg16\n",
        "vgg16.maybe_download()"
      ],
      "execution_count": 0,
      "outputs": []
    },
    {
      "cell_type": "markdown",
      "metadata": {
        "id": "U6Au-VZCzJIc",
        "colab_type": "text"
      },
      "source": [
        "First, we load the style and content images.\n",
        "\n",
        "As I made this in Google Colab, I did upload *my* **style_image** and **content_image** into it. If you want to use any other image, just provide the links to them, or you might even use Google Drive.\n",
        "\n"
      ]
    },
    {
      "cell_type": "markdown",
      "metadata": {
        "id": "kktPAqGbI_hN",
        "colab_type": "text"
      },
      "source": [
        "Subsequently, the images are converted to a matrix of entries with type float."
      ]
    },
    {
      "cell_type": "code",
      "metadata": {
        "id": "XVDvLmwuwfOI",
        "colab_type": "code",
        "colab": {}
      },
      "source": [
        "style_image= Image.open('style_image.jpg')\n",
        "#style_image = Image.open('your_link_here')\n",
        "\n",
        "content_image = Image.open('content_image.png')\n",
        "#style_image = Image.open('your_link_here')"
      ],
      "execution_count": 0,
      "outputs": []
    },
    {
      "cell_type": "markdown",
      "metadata": {
        "id": "TK7ZrGhFgx_u",
        "colab_type": "text"
      },
      "source": [
        "I used 512x512 images. Resize if you want to."
      ]
    },
    {
      "cell_type": "code",
      "metadata": {
        "id": "mIuBJMnHg5Ch",
        "colab_type": "code",
        "colab": {}
      },
      "source": [
        "\"\"\"\n",
        "  def resize(image, size):\n",
        "  \n",
        "\"\"\""
      ],
      "execution_count": 0,
      "outputs": []
    },
    {
      "cell_type": "code",
      "metadata": {
        "id": "_c-Qp5hpyctN",
        "colab_type": "code",
        "colab": {}
      },
      "source": [
        "style_image = np.float32(style_image) \n",
        "content_image = np.float32(content_image)        #conversion to array"
      ],
      "execution_count": 0,
      "outputs": []
    },
    {
      "cell_type": "markdown",
      "metadata": {
        "id": "SR7eo8Rnftk7",
        "colab_type": "text"
      },
      "source": [
        "I won't go exactly with the paper. I'd make two loss functions for now, \n",
        "\n",
        "*content_loss*, and *style_loss*..."
      ]
    },
    {
      "cell_type": "code",
      "metadata": {
        "id": "T7UdhXi5XsWn",
        "colab_type": "code",
        "colab": {}
      },
      "source": [
        "def content_image_loss(session, model, content_image, layer_ids):\n",
        "  \n",
        "  feed_dict = model.create_feed_dict(image = content_image)\n",
        "  layers = model.get_layer_tensors(layer_ids = layer_ids)\n",
        "  \n",
        "  value_in_layers = session.run(layers, feed_dict = feed_dict)\n",
        "  \n",
        "  with model.graph.as_default():\n",
        "    iterator = zip(values_in_layers, layers)\n",
        "  \n",
        "    content_loss = []\n",
        "  \n",
        "    for value, layer in iterator:\n",
        "      loss = tf.reduce_mean(tf.square(value - layer))        #mean squared error\n",
        "      content_loss.append(loss)\n",
        "    \n",
        "  loss = tf.reduce_mean(content_loss)                      #total loss is the average of all layer losses\n",
        "  return(loss)"
      ],
      "execution_count": 0,
      "outputs": []
    },
    {
      "cell_type": "code",
      "metadata": {
        "id": "UODzUgLksf0O",
        "colab_type": "code",
        "colab": {}
      },
      "source": [
        "#Consider the layer has 5 channels\n",
        "#num_channels = 5\n",
        "#we need the product of the activation_values of all points through all these channels. \n",
        "#thus, it is reshaped to a [(suitable_size)xnum_channels] matrix \n",
        "\n",
        "def gram_matrix(feature):\n",
        "  shape = feature.get_shape()\n",
        "  num_channels = int(shape[3])\n",
        "  \n",
        "  matrix = tf.reshape(feature, shape = [-1,num_channels])\n",
        "  gram = tf.matmul(tf.transpose(matrix), matrix)\n",
        "  \n",
        "  return(gram)"
      ],
      "execution_count": 0,
      "outputs": []
    },
    {
      "cell_type": "code",
      "metadata": {
        "id": "zK7mh2xent8t",
        "colab_type": "code",
        "colab": {}
      },
      "source": [
        "def style_image_loss(session, model, style_image, layer_ids):\n",
        "  \n",
        "  feed_dict = model.create_feed_dict(image = style_image)\n",
        "  layers = model.get_layer_tensors(layer_ids = layer_ids)"
      ],
      "execution_count": 0,
      "outputs": []
    },
    {
      "cell_type": "code",
      "metadata": {
        "id": "IUYSpui8kTLb",
        "colab_type": "code",
        "colab": {
          "base_uri": "https://localhost:8080/",
          "height": 34
        },
        "outputId": "ece786ef-dc8d-4628-8da5-11c788383e53"
      },
      "source": [
        ""
      ],
      "execution_count": 27,
      "outputs": [
        {
          "output_type": "stream",
          "text": [
            "<class 'tensorflow.python.framework.ops.Tensor'>\n"
          ],
          "name": "stdout"
        }
      ]
    }
  ]
}